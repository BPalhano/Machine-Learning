{
 "cells": [
  {
   "cell_type": "markdown",
   "id": "c424f562",
   "metadata": {},
   "source": [
    "# Model training\n",
    "\n",
    "On this notebook we will train a Linear regressor with two differents training models:\n",
    "\n",
    "* Utilizing a equation to minimize the cost function;\n",
    "\n",
    "* Utilizing a DG to minimize the cost function;\n",
    "\n",
    "After this, we will do a polynomial regressor, this model has more parameters than Linear Regression it is more prone to overfitting the training data, so we will see how to detect whether this happens or not, using learning curves, and then we will cover regularization techniques that can reduce the risk of overfitting in the ensemble.\n",
    "juste in the ensemble.\n",
    "\n",
    "In the end of notebook we will study the Logistic and Softmax regressors."
   ]
  },
  {
   "cell_type": "markdown",
   "id": "4bf39df3",
   "metadata": {},
   "source": [
    "## Linear Regression Model\n",
    "\n",
    "Usally, a linear model do a prevision calculating a input attributes pondered sum, plus a constant called *polarization term*.\n",
    "\n",
    "$\\hat{y}$ = $\\theta_{0}$ + $\\theta_{1}x_{1}$ + $\\theta_{2}x_{2}$ + ... + $\\theta_{n}x_{n}$\n",
    "\n",
    "* $\\hat{y}$ is the expected value;\n",
    "\n",
    "* n is the number of features;\n",
    "\n",
    "* $x_{i}$ is the value of i-th feature;\n",
    "\n",
    "* $\\theta_{j}$ is the parammeter of j model;\n",
    "\n",
    "Translating this equation for a vetorial form:\n",
    "\n",
    "$\\hat{y}$ = h$_{0}$($\\textbf{x}$) = $\\theta^{T}$*$\\textbf{x}$.\n",
    "\n",
    "We can call h$_{0}$($\\textbf{x}$) for *hypotesis function of x*.\n",
    "\n",
    "For training our model we first need a good measurement to how well the model will fit the training data, for this, we can use MSE or RMSE, no difference for this application because if we minimize a function, we also minimize its root (and vice versa).\n",
    "\n",
    "MSE($\\textbf{X}, h_{\\theta}$) = $\\frac{1}{m}$ $\\sum_{i = 1} ^{m} (\\theta^{T} \\textbf{x}^{(i)} - y^{i})^2$.\n",
    "\n",
    "Obs.: to simplificate I will write MSE($\\theta$) instead MSE($\\textbf{X}, h_{\\theta}$)."
   ]
  },
  {
   "cell_type": "markdown",
   "id": "a23a8e07",
   "metadata": {},
   "source": [
    "### Least Square method\n",
    "\n",
    "To find the value of θ that minimizes the cost function, there exists a closed-form solution in other words, a mathematical equation that gives the result directly. This is called the Least Squares Method. \n",
    "\n",
    "$\\hat{\\theta} = (\\textbf{X}^{T} \\cdot \\textbf{X})^{-1} \\cdot \\textbf{X}^{T} \\cdot \\textbf{y}$\n",
    "\n",
    "let visualize this with a experiment:"
   ]
  },
  {
   "cell_type": "code",
   "execution_count": 7,
   "id": "f9357443",
   "metadata": {},
   "outputs": [
    {
     "data": {
      "text/plain": [
       "(0.0, 2.0, 0.0, 15.0)"
      ]
     },
     "execution_count": 7,
     "metadata": {},
     "output_type": "execute_result"
    },
    {
     "data": {
      "image/png": "[encoded data removed]",
      "text/plain": [
       "<Figure size 640x480 with 1 Axes>"
      ]
     },
     "metadata": {},
     "output_type": "display_data"
    }
   ],
   "source": [
    "# Using Numpy:\n",
    "%matplotlib inline\n",
    "import numpy as np\n",
    "from matplotlib import pyplot as plt\n",
    "\n",
    "X = 2 * np.random.rand(100,1)\n",
    "y = 4 + 3 * X + np.random.randn(100,1)\n",
    "\n",
    "# utilizing the LSM to minimizate the theta\n",
    "\n",
    "X_b = np.c_[np.ones((100,1)), X] # ading X0 = 1 to wich instance\n",
    "theta_best = np.linalg.inv(X_b.T.dot(X_b)).dot(X_b.T).dot(y)\n",
    "\n",
    "X_new = np.array([[0], [2]])\n",
    "X_new_b = np.c_[np.ones((2, 1)), X_new] # adiciona x0 = 1 a cada instância\n",
    "y_predict = X_new_b.dot(theta_best)\n",
    "\n",
    "plt.plot(X_new, y_predict, \"r-\")\n",
    "plt.plot(X, y, \"b.\")\n",
    "plt.axis([0,2,0,15])"
   ]
  },
  {
   "cell_type": "code",
   "execution_count": null,
   "id": "5a003d3c",
   "metadata": {},
   "outputs": [],
   "source": []
  }
 ],
 "metadata": {
  "kernelspec": {
   "display_name": "Python 3 (ipykernel)",
   "language": "python",
   "name": "python3"
  },
  "language_info": {
   "codemirror_mode": {
    "name": "ipython",
    "version": 3
   },
   "file_extension": ".py",
   "mimetype": "text/x-python",
   "name": "python",
   "nbconvert_exporter": "python",
   "pygments_lexer": "ipython3",
   "version": "3.9.13"
  }
 },
 "nbformat": 4,
 "nbformat_minor": 5
}
